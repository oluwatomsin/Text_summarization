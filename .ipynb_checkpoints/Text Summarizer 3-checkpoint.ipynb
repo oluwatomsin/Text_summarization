{
 "cells": [
  {
   "cell_type": "markdown",
   "metadata": {},
   "source": [
    "## Import Relevant Packages"
   ]
  },
  {
   "cell_type": "code",
   "execution_count": 1,
   "metadata": {},
   "outputs": [],
   "source": [
    "import textwrap\n",
    "from string import digits\n",
    "from sumy.summarizers.text_rank import TextRankSummarizer\n",
    "from sumy.summarizers.lsa import LsaSummarizer\n",
    "from sumy.parsers.plaintext import PlaintextParser\n",
    "from sumy.nlp.tokenizers import Tokenizer"
   ]
  },
  {
   "cell_type": "markdown",
   "metadata": {},
   "source": [
    "### Next"
   ]
  },
  {
   "cell_type": "code",
   "execution_count": 2,
   "metadata": {},
   "outputs": [],
   "source": [
    "# Loading the book into environment\n",
    "with open('Democracy-and-Education.txt', 'r') as file:\n",
    "    lines = file.read()"
   ]
  },
  {
   "cell_type": "code",
   "execution_count": 4,
   "metadata": {},
   "outputs": [],
   "source": [
    "# Sliting the document on chapters\n",
    "chapters = wrap(lines).split('Chapter')"
   ]
  },
  {
   "cell_type": "code",
   "execution_count": 5,
   "metadata": {},
   "outputs": [],
   "source": [
    "# Selecting the chapters\n",
    "real_chapters = chapters[28:-1]"
   ]
  },
  {
   "cell_type": "code",
   "execution_count": 6,
   "metadata": {},
   "outputs": [
    {
     "data": {
      "text/plain": [
       "'1. Renewal of Life by Transmission.  The most notable distinction\\nbetween\\nliving and inanimate things is that the former maintain\\nthemselves by\\nrenewal.  A stone when struck resists.  If its\\nresistance is greater than\\nthe force of the blow struck, it remains\\noutwardly unchanged.  Otherwise,\\nit is shattered into smaller bits.\\nNever does the stone attempt to react\\nin such a way that it may\\nmaintain itself against the blow, much less so\\nas to render the blow a\\ncontributing factor to its own continued action.\\nWhile the living\\nthing may easily be crushed by superior force, it none\\nthe less tries\\nto turn the energies which act upon it into means of its\\nown further\\nexistence.  If it cannot do so, it does not just split into\\nsmaller\\npieces (at least in the higher forms of life), but loses its\\nidentity\\nas a living thing.\\n\\nAs long as it endures, it struggles to use\\nsurrounding energies in its\\nown behalf.  It uses light, air, moisture,\\nand the material of soil.  To\\nsay that it uses them is to say that it\\nturns them into means of its own\\nconservation.  As long as it is\\ngrowing, the energy it expends in thus\\nturning the environment to\\naccount is more than compensated for by\\nthe return it gets: it grows.\\nUnderstanding the word \"control\" in this\\nsense, it may be said that a\\nliving being is one that subjugates\\nand controls for its own continued\\nactivity the energies that would\\notherwise use it up.  Life is a self-\\nrenewing process through action upon\\nthe environment.\\n\\nIn all the\\nhigher forms this process cannot be kept up indefinitely.\\nAfter a\\nwhile they succumb; they die.  The creature is not equal to the\\ntask\\nof indefinite self-renewal.  But continuity of the life process\\nis not\\ndependent upon the prolongation of the existence of any one\\nindividual.  Reproduction of other forms of life goes on in continuous\\nsequence.  And though, as the geological record shows, not merely\\nindividuals but also species die out, the life process continues in\\nincreasingly complex forms.  As some species die out, forms better\\nadapted to utilize the obstacles against which they struggled in vain\\ncome into being.  Continuity of life means continual readaptation of\\nthe\\nenvironment to the needs of living organisms.\\n\\nWe have been\\nspeaking of life in its lowest terms--as a physical thing.\\nBut we use\\nthe word \"Life\" to denote the whole range of experience,\\nindividual\\nand racial.  When we see a book called the Life of Lincoln\\nwe do not\\nexpect to find within its covers a treatise on physiology.\\nWe look for\\nan account of social antecedents; a description of early\\nsurroundings,\\nof the conditions and occupation of the family; of the\\nchief episodes\\nin the development of character; of signal struggles and\\nachievements;\\nof the individual\\'s hopes, tastes, joys and sufferings.  In\\nprecisely\\nsimilar fashion we speak of the life of a savage tribe, of\\nthe\\nAthenian people, of the American nation.  \"Life\" covers customs,\\ninstitutions, beliefs, victories and defeats, recreations and\\noccupations.\\n\\nWe employ the word \"experience\" in the same pregnant\\nsense.  And to it,\\nas well as to life in the bare physiological sense,\\nthe principle\\nof continuity through renewal applies.  With the renewal\\nof physical\\nexistence goes, in the case of human beings, the\\nrecreation of beliefs,\\nideals, hopes, happiness, misery, and\\npractices.  The continuity of any\\nexperience, through renewing of the\\nsocial group, is a literal fact.\\nEducation, in its broadest sense, is\\nthe means of this social continuity\\nof life.  Every one of the\\nconstituent elements of a social group, in a\\nmodern city as in a\\nsavage tribe, is born immature, helpless, without\\nlanguage, beliefs,\\nideas, or social standards.  Each individual, each\\nunit who is the\\ncarrier of the life-experience of his group, in time\\npasses away.  Yet\\nthe life of the group goes on.\\n\\nThe primary ineluctable facts of the\\nbirth and death of each one of\\nthe constituent members in a social\\ngroup determine the necessity of\\neducation.  On one hand, there is the\\ncontrast between the immaturity of\\nthe new-born members of the group--\\nits future sole representatives--and\\nthe maturity of the adult members\\nwho possess the knowledge and customs\\nof the group.  On the other\\nhand, there is the necessity that these\\nimmature members be not merely\\nphysically preserved in adequate numbers,\\nbut that they be initiated\\ninto the interests, purposes, information,\\nskill, and practices of the\\nmature members: otherwise the group will\\ncease its characteristic\\nlife.  Even in a savage tribe, the achievements\\nof adults are far\\nbeyond what the immature members would be capable of\\nif left to\\nthemselves.  With the growth of civilization, the gap between\\nthe\\noriginal capacities of the immature and the standards and customs of\\nthe elders increases.  Mere physical growing up, mere mastery of the\\nbare\\nnecessities of subsistence will not suffice to reproduce the life\\nof\\nthe group.  Deliberate effort and the taking of thoughtful pains\\nare\\nrequired.  Beings who are born not only unaware of, but quite\\nindifferent\\nto, the aims and habits of the social group have to be\\nrendered\\ncognizant of them and actively interested.  Education, and\\neducation\\nalone, spans the gap.\\n\\nSociety exists through a process of\\ntransmission quite as much as\\nbiological life.  This transmission\\noccurs by means of communication of\\nhabits of doing, thinking, and\\nfeeling from the older to the younger.\\nWithout this communication of\\nideals, hopes, expectations, standards,\\nopinions, from those members\\nof society who are passing out of the group\\nlife to those who are\\ncoming into it, social life could not survive.\\nIf the members who\\ncompose a society lived on continuously, they\\nmight educate the new-\\nborn members, but it would be a task directed\\nby personal interest\\nrather than social need.  Now it is a work of\\nnecessity.\\n\\nIf a plague\\ncarried off the members of a society all at once, it is\\nobvious that\\nthe group would be permanently done for.  Yet the death of\\neach of its\\nconstituent members is as certain as if an epidemic took\\nthem all at\\nonce.  But the graded difference in age, the fact that some\\nare born\\nas some die, makes possible through transmission of ideas and\\npractices the constant reweaving of the social fabric.  Yet this\\nrenewal\\nis not automatic.  Unless pains are taken to see that genuine\\nand\\nthorough transmission takes place, the most civilized group will\\nrelapse\\ninto barbarism and then into savagery.  In fact, the human\\nyoung are so\\nimmature that if they were left to themselves without the\\nguidance\\nand succor of others, they could not acquire the rudimentary\\nabilities\\nnecessary for physical existence.  The young of human beings\\ncompare\\nso poorly in original efficiency with the young of many of the\\nlower\\nanimals, that even the powers needed for physical sustentation\\nhave to\\nbe acquired under tuition.  How much more, then, is this the\\ncase with\\nrespect to all the technological, artistic, scientific, and\\nmoral\\nachievements of humanity!\\n\\n2. Education and Communication.  So\\nobvious, indeed, is the necessity of\\nteaching and learning for the\\ncontinued existence of a society that we\\nmay seem to be dwelling\\nunduly on a truism.  But justification is found\\nin the fact that such\\nemphasis is a means of getting us away from an\\nunduly scholastic and\\nformal notion of education.  Schools are, indeed,\\none important method\\nof the transmission which forms the dispositions\\nof the immature; but\\nit is only one means, and, compared with other\\nagencies, a relatively\\nsuperficial means.  Only as we have grasped the\\nnecessity of more\\nfundamental and persistent modes of tuition can we\\nmake sure of\\nplacing the scholastic methods in their true context.\\n\\nSociety not\\nonly continues to exist by transmission, by communication,\\nbut it may\\nfairly be said to exist in transmission, in communication.\\nThere is\\nmore than a verbal tie between the words common, community,\\nand\\ncommunication.  Men live in a community in virtue of the things which\\nthey have in common; and communication is the way in which they come\\nto\\npossess things in common.  What they must have in common in order\\nto\\nform a community or society are aims, beliefs, aspirations,\\nknowledge--a\\ncommon understanding--like-mindedness as the sociologists\\nsay.  Such\\nthings cannot be passed physically from one to another,\\nlike bricks;\\nthey cannot be shared as persons would share a pie by\\ndividing it into\\nphysical pieces.  The communication which insures\\nparticipation in a\\ncommon understanding is one which secures similar\\nemotional and\\nintellectual dispositions--like ways of responding to\\nexpectations and\\nrequirements.\\n\\nPersons do not become a society by\\nliving in physical proximity, any\\nmore than a man ceases to be\\nsocially influenced by being so many feet\\nor miles removed from\\nothers.  A book or a letter may institute a more\\nintimate association\\nbetween human beings separated thousands of miles\\nfrom each other than\\nexists between dwellers under the same roof.\\nIndividuals do not even\\ncompose a social group because they all work\\nfor a common end.  The\\nparts of a machine work with a maximum of\\ncooperativeness for a common\\nresult, but they do not form a community.\\nIf, however, they were all\\ncognizant of the common end and all\\ninterested in it so that they\\nregulated their specific activity in\\nview of it, then they would form\\na community.  But this would involve\\ncommunication.  Each would have\\nto know what the other was about and\\nwould have to have some way of\\nkeeping the other informed as to his own\\npurpose and progress.\\nConsensus demands communication.\\n\\nWe are thus compelled to recognize\\nthat within even the most social\\ngroup there are many relations which\\nare not as yet social.  A large\\nnumber of human relationships in any\\nsocial group are still upon the\\nmachine-like plane.  Individuals use\\none another so as to get desired\\nresults, without reference to the\\nemotional and intellectual disposition\\nand consent of those used.\\nSuch uses express physical superiority, or\\nsuperiority of position,\\nskill, technical ability, and command of tools,\\nmechanical or fiscal.\\nSo far as the relations of parent and child,\\nteacher and pupil,\\nemployer and employee, governor and governed, remain\\nupon this level,\\nthey form no true social group, no matter how closely\\ntheir respective\\nactivities touch one another.  Giving and taking of\\norders modifies\\naction and results, but does not of itself effect a\\nsharing of\\npurposes, a communication of interests.\\n\\nNot only is social life\\nidentical with communication, but all\\ncommunication (and hence all\\ngenuine social life) is educative.  To be\\na recipient of a\\ncommunication is to have an enlarged and changed\\nexperience.  One\\nshares in what another has thought and felt and in so\\nfar, meagerly or\\namply, has his own attitude modified.  Nor is the one\\nwho communicates\\nleft unaffected.  Try the experiment of communicating,\\nwith fullness\\nand accuracy, some experience to another, especially if it\\nbe somewhat\\ncomplicated, and you will find your own attitude toward\\nyour\\nexperience changing; otherwise you resort to expletives and\\nejaculations.  The experience has to be formulated in order to be\\ncommunicated.  To formulate requires getting outside of it, seeing it\\nas\\nanother would see it, considering what points of contact it has\\nwith\\nthe life of another so that it may be got into such form that he\\ncan\\nappreciate its meaning.  Except in dealing with commonplaces and\\ncatch\\nphrases one has to assimilate, imaginatively, something of\\nanother\\'s\\nexperience in order to tell him intelligently of one\\'s own\\nexperience.\\nAll communication is like art.  It may fairly be said,\\ntherefore, that\\nany social arrangement that remains vitally social, or\\nvitally shared,\\nis educative to those who participate in it.  Only\\nwhen it becomes cast\\nin a mold and runs in a routine way does it lose\\nits educative power.\\n\\nIn final account, then, not only does social\\nlife demand teaching and\\nlearning for its own permanence, but the very\\nprocess of living together\\neducates.  It enlarges and enlightens\\nexperience; it stimulates and\\nenriches imagination; it creates\\nresponsibility for accuracy and\\nvividness of statement and thought.  A\\nman really living alone (alone\\nmentally as well as physically) would\\nhave little or no occasion\\nto reflect upon his past experience to\\nextract its net meaning.  The\\ninequality of achievement between the\\nmature and the immature not only\\nnecessitates teaching the young, but\\nthe necessity of this teaching\\ngives an immense stimulus to reducing\\nexperience to that order and form\\nwhich will render it most easily\\ncommunicable and hence most usable.\\n\\n3. The Place of Formal Education.\\nThere is, accordingly, a marked\\ndifference between the education which\\nevery one gets from living\\nwith others, as long as he really lives\\ninstead of just continuing to\\nsubsist, and the deliberate educating of\\nthe young.  In the former case\\nthe education is incidental; it is\\nnatural and important, but it is not\\nthe express reason of the\\nassociation.  While it may be said, without\\nexaggeration, that the\\nmeasure of the worth of any social institution,\\neconomic, domestic,\\npolitical, legal, religious, is its effect in\\nenlarging and improving\\nexperience; yet this effect is not a part of\\nits original motive,\\nwhich is limited and more immediately practical.\\nReligious\\nassociations began, for example, in the desire to secure the\\nfavor of\\noverruling powers and to ward off evil influences; family\\nlife in the\\ndesire to gratify appetites and secure family perpetuity;\\nsystematic\\nlabor, for the most part, because of enslavement to others,\\netc.  Only\\ngradually was the by-product of the institution, its effect\\nupon the\\nquality and extent of conscious life, noted, and only more\\ngradually\\nstill was this effect considered as a directive factor in the\\nconduct\\nof the institution.  Even today, in our industrial life, apart\\nfrom\\ncertain values of industriousness and thrift, the intellectual and\\nemotional reaction of the forms of human association under which the\\nworld\\'s work is carried on receives little attention as compared with\\nphysical output.\\n\\nBut in dealing with the young, the fact of\\nassociation itself as an\\nimmediate human fact, gains in importance.\\nWhile it is easy to ignore in\\nour contact with them the effect of our\\nacts upon their disposition,\\nor to subordinate that educative effect\\nto some external and tangible\\nresult, it is not so easy as in dealing\\nwith adults.  The need of\\ntraining is too evident; the pressure to\\naccomplish a change in their\\nattitude and habits is too urgent to\\nleave these consequences wholly\\nout of account.  Since our chief\\nbusiness with them is to enable them to\\nshare in a common life we\\ncannot help considering whether or no we are\\nforming the powers which\\nwill secure this ability.  If humanity has made\\nsome headway in\\nrealizing that the ultimate value of every institution\\nis its\\ndistinctively human effect--its effect upon conscious\\nexperience--we\\nmay well believe that this lesson has been learned\\nlargely through\\ndealings with the young.\\n\\nWe are thus led to distinguish, within the\\nbroad educational\\nprocess which we have been so far considering, a\\nmore formal kind of\\neducation--that of direct tuition or schooling.\\nIn undeveloped social\\ngroups, we find very little formal teaching and\\ntraining.  Savage groups\\nmainly rely for instilling needed\\ndispositions into the young upon the\\nsame sort of association which\\nkeeps adults loyal to their group.  They\\nhave no special devices,\\nmaterial, or institutions for teaching save in\\nconnection with\\ninitiation ceremonies by which the youth are inducted\\ninto full social\\nmembership.  For the most part, they depend upon\\nchildren learning the\\ncustoms of the adults, acquiring their emotional\\nset and stock of\\nideas, by sharing in what the elders are doing.  In\\npart, this sharing\\nis direct, taking part in the occupations of adults\\nand thus serving\\nan apprenticeship; in part, it is indirect, through the\\ndramatic plays\\nin which children reproduce the actions of grown-ups\\nand thus learn to\\nknow what they are like.  To savages it would seem\\npreposterous to\\nseek out a place where nothing but learning was going on\\nin order that\\none might learn.\\n\\nBut as civilization advances, the gap between the\\ncapacities of the\\nyoung and the concerns of adults widens.  Learning\\nby direct sharing in\\nthe pursuits of grown-ups becomes increasingly\\ndifficult except in the\\ncase of the less advanced occupations.  Much\\nof what adults do is so\\nremote in space and in meaning that playful\\nimitation is less and less\\nadequate to reproduce its spirit.  Ability\\nto share effectively in adult\\nactivities thus depends upon a prior\\ntraining given with this end in\\nview.  Intentional agencies--schools--\\nand explicit material--studies--are\\ndevised.  The task of teaching\\ncertain things is delegated to a special\\ngroup of persons.\\n\\nWithout\\nsuch formal education, it is not possible to transmit all the\\nresources and achievements of a complex society.  It also opens a way\\nto\\na kind of experience which would not be accessible to the young, if\\nthey\\nwere left to pick up their training in informal association with\\nothers,\\nsince books and the symbols of knowledge are mastered.\\n\\nBut\\nthere are conspicuous dangers attendant upon the transition from\\nindirect to formal education.  Sharing in actual pursuit, whether\\ndirectly or vicariously in play, is at least personal and vital.\\nThese\\nqualities compensate, in some measure, for the narrowness of\\navailable\\nopportunities.  Formal instruction, on the contrary, easily\\nbecomes\\nremote and dead--abstract and bookish, to use the ordinary\\nwords of\\ndepreciation.  What accumulated knowledge exists in low grade\\nsocieties\\nis at least put into practice; it is transmuted into\\ncharacter; it\\nexists with the depth of meaning that attaches to its\\ncoming within\\nurgent daily interests.\\n\\nBut in an advanced culture much\\nwhich has to be learned is stored in\\nsymbols.  It is far from\\ntranslation into familiar acts and objects.  Such\\nmaterial is\\nrelatively technical and superficial.  Taking the ordinary\\nstandard of\\nreality as a measure, it is artificial.  For this measure is\\nconnection with practical concerns.  Such material exists in a world\\nby\\nitself, unassimilated to ordinary customs of thought and\\nexpression.\\nThere is the standing danger that the material of formal\\ninstruction\\nwill be merely the subject matter of the schools, isolated\\nfrom the\\nsubject matter of life-experience.  The permanent social\\ninterests are\\nlikely to be lost from view.  Those which have not been\\ncarried over\\ninto the structure of social life, but which remain\\nlargely matters\\nof technical information expressed in symbols, are\\nmade conspicuous\\nin schools.  Thus we reach the ordinary notion of\\neducation: the notion\\nwhich ignores its social necessity and its\\nidentity with all human\\nassociation that affects conscious life, and\\nwhich identifies it with\\nimparting information about remote matters\\nand the conveying of learning\\nthrough verbal signs: the acquisition of\\nliteracy.\\n\\nHence one of the weightiest problems with which the\\nphilosophy of\\neducation has to cope is the method of keeping a proper\\nbalance between\\nthe informal and the formal, the incidental and the\\nintentional,\\nmodes of education.  When the acquiring of information\\nand of technical\\nintellectual skill do not influence the formation of\\na social\\ndisposition, ordinary vital experience fails to gain in\\nmeaning, while\\nschooling, in so far, creates only \"sharps\" in learning\\n--that is,\\negoistic specialists.  To avoid a split between what men\\nconsciously\\nknow because they are aware of having learned it by a\\nspecific job of\\nlearning, and what they unconsciously know because\\nthey have absorbed it\\nin the formation of their characters by\\nintercourse with others,\\nbecomes an increasingly delicate task with\\nevery development of special\\nschooling.\\n\\nSummary.  It is the very\\nnature of life to strive to continue in being.\\nSince this continuance\\ncan be secured only by constant renewals, life\\nis a self-renewing\\nprocess.  What nutrition and reproduction are to\\nphysiological life,\\neducation is to social life.  This education consists\\nprimarily in\\ntransmission through communication.  Communication is a\\nprocess of\\nsharing experience till it becomes a common possession.  It\\nmodifies\\nthe disposition of both the parties who partake in it.  That\\nthe\\nulterior significance of every mode of human association lies in\\nthe\\ncontribution which it makes to the improvement of the quality\\nof\\nexperience is a fact most easily recognized in dealing with the\\nimmature.  That is to say, while every social arrangement is educative\\nin effect, the educative effect first becomes an important part of the\\npurpose of the association in connection with the association of the\\nolder with the younger.  As societies become more complex in structure\\nand resources, the need of formal or intentional teaching and learning\\nincreases.  As formal teaching and training grow in extent, there is\\nthe\\ndanger of creating an undesirable split between the experience\\ngained in\\nmore direct associations and what is acquired in school.\\nThis danger was\\nnever greater than at the present time, on account of\\nthe rapid growth\\nin the last few centuries of knowledge and technical\\nmodes of skill.\\n\\n'"
      ]
     },
     "execution_count": 6,
     "metadata": {},
     "output_type": "execute_result"
    }
   ],
   "source": [
    "# Selecting the text of chapter one\n",
    "chapter_1 = real_chapters[0].split('\\n', 1)[1]\n",
    "chapter_1"
   ]
  },
  {
   "cell_type": "code",
   "execution_count": null,
   "metadata": {},
   "outputs": [],
   "source": []
  },
  {
   "cell_type": "markdown",
   "metadata": {},
   "source": [
    "## Creating the summary"
   ]
  },
  {
   "cell_type": "code",
   "execution_count": 13,
   "metadata": {},
   "outputs": [],
   "source": [
    "summarizer = TextRankSummarizer()\n",
    "parser = PlaintextParser(chapter_1,\n",
    "                        Tokenizer('english'))\n",
    "summary = summarizer(parser.document, sentences_count=20)"
   ]
  },
  {
   "cell_type": "code",
   "execution_count": 14,
   "metadata": {},
   "outputs": [
    {
     "name": "stdout",
     "output_type": "stream",
     "text": [
      "We look for an account of social antecedents; a description of early\n",
      "surroundings, of the conditions and occupation of the family; of the\n",
      "chief episodes in the development of character; of signal struggles\n",
      "and achievements; of the individual's hopes, tastes, joys and\n",
      "sufferings.\n",
      "In precisely similar fashion we speak of the life of a savage tribe,\n",
      "of the Athenian people, of the American nation.\n",
      "The primary ineluctable facts of the birth and death of each one of\n",
      "the constituent members in a social group determine the necessity of\n",
      "education.\n",
      "On one hand, there is the contrast between the immaturity of the new-\n",
      "born members of the group-- its future sole representatives--and the\n",
      "maturity of the adult members who possess the knowledge and customs of\n",
      "the group.\n",
      "On the other hand, there is the necessity that these immature members\n",
      "be not merely physically preserved in adequate numbers, but that they\n",
      "be initiated into the interests, purposes, information, skill, and\n",
      "practices of the mature members: otherwise the group will cease its\n",
      "characteristic life.\n",
      "With the growth of civilization, the gap between the original\n",
      "capacities of the immature and the standards and customs of the elders\n",
      "increases.\n",
      "The young of human beings compare so poorly in original efficiency\n",
      "with the young of many of the lower animals, that even the powers\n",
      "needed for physical sustentation have to be acquired under tuition.\n",
      "The inequality of achievement between the mature and the immature not\n",
      "only necessitates teaching the young, but the necessity of this\n",
      "teaching gives an immense stimulus to reducing experience to that\n",
      "order and form which will render it most easily communicable and hence\n",
      "most usable.\n",
      "In the former case the education is incidental; it is natural and\n",
      "important, but it is not the express reason of the association.\n",
      "While it may be said, without exaggeration, that the measure of the\n",
      "worth of any social institution, economic, domestic, political, legal,\n",
      "religious, is its effect in enlarging and improving experience; yet\n",
      "this effect is not a part of its original motive, which is limited and\n",
      "more immediately practical.\n",
      "Religious associations began, for example, in the desire to secure the\n",
      "favor of overruling powers and to ward off evil influences; family\n",
      "life in the desire to gratify appetites and secure family perpetuity;\n",
      "systematic labor, for the most part, because of enslavement to others,\n",
      "etc.\n",
      "Only gradually was the by-product of the institution, its effect upon\n",
      "the quality and extent of conscious life, noted, and only more\n",
      "gradually still was this effect considered as a directive factor in\n",
      "the conduct of the institution.\n",
      "Even today, in our industrial life, apart from certain values of\n",
      "industriousness and thrift, the intellectual and emotional reaction of\n",
      "the forms of human association under which the world's work is carried\n",
      "on receives little attention as compared with physical output.\n",
      "In part, this sharing is direct, taking part in the occupations of\n",
      "adults and thus serving an apprenticeship; in part, it is indirect,\n",
      "through the dramatic plays in which children reproduce the actions of\n",
      "grown-ups and thus learn to know what they are like.\n",
      "There is the standing danger that the material of formal instruction\n",
      "will be merely the subject matter of the schools, isolated from the\n",
      "subject matter of life-experience.\n",
      "Thus we reach the ordinary notion of education: the notion which\n",
      "ignores its social necessity and its identity with all human\n",
      "association that affects conscious life, and which identifies it with\n",
      "imparting information about remote matters and the conveying of\n",
      "learning through verbal signs: the acquisition of literacy.\n",
      "Hence one of the weightiest problems with which the philosophy of\n",
      "education has to cope is the method of keeping a proper balance\n",
      "between the informal and the formal, the incidental and the\n",
      "intentional, modes of education.\n",
      "When the acquiring of information and of technical intellectual skill\n",
      "do not influence the formation of a social disposition, ordinary vital\n",
      "experience fails to gain in meaning, while schooling, in so far,\n",
      "creates only \"sharps\" in learning --that is, egoistic specialists.\n",
      "That the ulterior significance of every mode of human association lies\n",
      "in the contribution which it makes to the improvement of the quality\n",
      "of experience is a fact most easily recognized in dealing with the\n",
      "immature.\n",
      "That is to say, while every social arrangement is educative in effect,\n",
      "the educative effect first becomes an important part of the purpose of\n",
      "the association in connection with the association of the older with\n",
      "the younger.\n"
     ]
    }
   ],
   "source": [
    "for s in summary:\n",
    "    print(wrap(str(s)))"
   ]
  },
  {
   "cell_type": "code",
   "execution_count": 15,
   "metadata": {},
   "outputs": [
    {
     "name": "stdout",
     "output_type": "stream",
     "text": [
      "As some species die out, forms better adapted to utilize the obstacles\n",
      "against which they struggled in vain come into being.\n",
      "There is more than a verbal tie between the words common, community,\n",
      "and communication.\n",
      "A large number of human relationships in any social group are still\n",
      "upon the machine-like plane.\n",
      "In final account, then, not only does social life demand teaching and\n",
      "learning for its own permanence, but the very process of living\n",
      "together educates.\n",
      "If humanity has made some headway in realizing that the ultimate value\n",
      "of every institution is its distinctively human effect--its effect\n",
      "upon conscious experience--we may well believe that this lesson has\n",
      "been learned largely through dealings with the young.\n",
      "They have no special devices, material, or institutions for teaching\n",
      "save in connection with initiation ceremonies by which the youth are\n",
      "inducted into full social membership.\n",
      "Without such formal education, it is not possible to transmit all the\n",
      "resources and achievements of a complex society.\n",
      "What accumulated knowledge exists in low grade societies is at least\n",
      "put into practice; it is transmuted into character; it exists with the\n",
      "depth of meaning that attaches to its coming within urgent daily\n",
      "interests.\n",
      "Such material exists in a world by itself, unassimilated to ordinary\n",
      "customs of thought and expression.\n",
      "Since this continuance can be secured only by constant renewals, life\n",
      "is a self-renewing process.\n"
     ]
    }
   ],
   "source": [
    "summarizer2 = LsaSummarizer()\n",
    "summary2 = summarizer2(parser.document,\n",
    "                      sentences_count=10)\n",
    "for s in summary2:\n",
    "    print(wrap(str(s)))"
   ]
  },
  {
   "cell_type": "code",
   "execution_count": null,
   "metadata": {},
   "outputs": [],
   "source": []
  }
 ],
 "metadata": {
  "kernelspec": {
   "display_name": "Python 3",
   "language": "python",
   "name": "python3"
  },
  "language_info": {
   "codemirror_mode": {
    "name": "ipython",
    "version": 3
   },
   "file_extension": ".py",
   "mimetype": "text/x-python",
   "name": "python",
   "nbconvert_exporter": "python",
   "pygments_lexer": "ipython3",
   "version": "3.8.5"
  }
 },
 "nbformat": 4,
 "nbformat_minor": 4
}
